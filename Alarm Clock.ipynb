{
 "cells": [
  {
   "cell_type": "code",
   "execution_count": null,
   "metadata": {},
   "outputs": [
    {
     "name": "stdout",
     "output_type": "stream",
     "text": [
      "Please Enter the Time at which your want to set the alarm: HH:MM:SS\n",
      "01:46:00\n",
      "Please Enter AM or PM\n",
      "am\n",
      "Creating Alarm......\n",
      "ALARM has been created\n"
     ]
    }
   ],
   "source": [
    "try:\n",
    "    from datetime import datetime\n",
    "    from playsound import playsound\n",
    "\n",
    "    user_input1 = input(\"Please Enter the Time at which your want to set the alarm: HH:MM:SS\\n\")\n",
    "    alarm_period = (input(\"Please Enter AM or PM\\n\")).upper()\n",
    "    alarm_hour = user_input1[0:2]\n",
    "    alarm_minute = user_input1[3:5]\n",
    "    # alarm_sec = user_input1[7:9]\n",
    "\n",
    "    print(\"Creating Alarm......\")\n",
    "    print(\"ALARM has been created\")\n",
    "    while True:\n",
    "        current_time = datetime.now()\n",
    "        current_hour = current_time.strftime('%I')\n",
    "        current_min = current_time.strftime('%M')\n",
    "        # current_sec = current_time.strftime('%S')12\n",
    "        current_period = current_time.strftime('%p')\n",
    "        if (current_period == alarm_period):\n",
    "            if (current_hour == alarm_hour):\n",
    "                if (current_min == alarm_minute):\n",
    "                    print('wakeup')\n",
    "                    playsound(\"C:/Users/91705/Downloads/preview.mp3\")\n",
    "                    break\n",
    "\n",
    "except Exception as e:\n",
    "    print(e)\n",
    "\n"
   ]
  },
  {
   "cell_type": "code",
   "execution_count": 18,
   "metadata": {},
   "outputs": [
    {
     "ename": "TypeError",
     "evalue": "_playsoundWin() missing 1 required positional argument: 'sound'",
     "output_type": "error",
     "traceback": [
      "\u001b[1;31m---------------------------------------------------------------------------\u001b[0m",
      "\u001b[1;31mTypeError\u001b[0m                                 Traceback (most recent call last)",
      "\u001b[1;32m<ipython-input-18-98790068fcdb>\u001b[0m in \u001b[0;36m<module>\u001b[1;34m\u001b[0m\n\u001b[0;32m      1\u001b[0m \u001b[1;32mfrom\u001b[0m \u001b[0mplaysound\u001b[0m \u001b[1;32mimport\u001b[0m \u001b[0mplaysound\u001b[0m\u001b[1;33m\u001b[0m\u001b[1;33m\u001b[0m\u001b[0m\n\u001b[1;32m----> 2\u001b[1;33m \u001b[0mplaysound\u001b[0m\u001b[1;33m(\u001b[0m\u001b[1;33m)\u001b[0m\u001b[1;33m\u001b[0m\u001b[1;33m\u001b[0m\u001b[0m\n\u001b[0m",
      "\u001b[1;31mTypeError\u001b[0m: _playsoundWin() missing 1 required positional argument: 'sound'"
     ]
    }
   ],
   "source": [
    "from playsound import playsound\n",
    "playsound()"
   ]
  },
  {
   "cell_type": "code",
   "execution_count": 16,
   "metadata": {},
   "outputs": [
    {
     "data": {
      "text/plain": [
       "datetime.datetime(2021, 5, 25, 1, 25, 3, 590865)"
      ]
     },
     "execution_count": 16,
     "metadata": {},
     "output_type": "execute_result"
    }
   ],
   "source": [
    "datetime.now()"
   ]
  },
  {
   "cell_type": "code",
   "execution_count": 17,
   "metadata": {},
   "outputs": [
    {
     "ename": "NameError",
     "evalue": "name 'playsound' is not defined",
     "output_type": "error",
     "traceback": [
      "\u001b[1;31m---------------------------------------------------------------------------\u001b[0m",
      "\u001b[1;31mNameError\u001b[0m                                 Traceback (most recent call last)",
      "\u001b[1;32m<ipython-input-17-54a6abd93c10>\u001b[0m in \u001b[0;36m<module>\u001b[1;34m\u001b[0m\n\u001b[1;32m----> 1\u001b[1;33m \u001b[0mplaysound\u001b[0m\u001b[1;33m(\u001b[0m\u001b[1;33m)\u001b[0m\u001b[1;33m\u001b[0m\u001b[1;33m\u001b[0m\u001b[0m\n\u001b[0m",
      "\u001b[1;31mNameError\u001b[0m: name 'playsound' is not defined"
     ]
    }
   ],
   "source": [
    "playsound()"
   ]
  },
  {
   "cell_type": "code",
   "execution_count": null,
   "metadata": {},
   "outputs": [],
   "source": []
  }
 ],
 "metadata": {
  "kernelspec": {
   "display_name": "Python 3",
   "language": "python",
   "name": "python3"
  },
  "language_info": {
   "codemirror_mode": {
    "name": "ipython",
    "version": 3
   },
   "file_extension": ".py",
   "mimetype": "text/x-python",
   "name": "python",
   "nbconvert_exporter": "python",
   "pygments_lexer": "ipython3",
   "version": "3.8.5"
  }
 },
 "nbformat": 4,
 "nbformat_minor": 4
}
